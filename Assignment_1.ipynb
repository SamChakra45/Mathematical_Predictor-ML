{
  "nbformat": 4,
  "nbformat_minor": 0,
  "metadata": {
    "colab": {
      "provenance": [],
      "include_colab_link": true
    },
    "kernelspec": {
      "name": "python3",
      "display_name": "Python 3"
    },
    "language_info": {
      "name": "python"
    }
  },
  "cells": [
    {
      "cell_type": "markdown",
      "metadata": {
        "id": "view-in-github",
        "colab_type": "text"
      },
      "source": [
        "<a href=\"https://colab.research.google.com/github/SamChakra45/Mathematical_Predictor-ML/blob/main/Assignment_1.ipynb\" target=\"_parent\"><img src=\"https://colab.research.google.com/assets/colab-badge.svg\" alt=\"Open In Colab\"/></a>"
      ]
    },
    {
      "cell_type": "code",
      "source": [
        "#Import libraries as per requirements:\n",
        "import matplotlib.pyplot as plt\n",
        "import numpy as np\n",
        "import pandas as pd\n",
        "import random\n",
        "from scipy.optimize import minimize"
      ],
      "metadata": {
        "id": "5YQM2TAr4zvk"
      },
      "execution_count": null,
      "outputs": []
    },
    {
      "cell_type": "markdown",
      "source": [
        "#Dataset\n",
        "This Cell is used to create a numpy array of 100 random integers in the range (1, 100)"
      ],
      "metadata": {
        "id": "33fSNzc8Jxpt"
      }
    },
    {
      "cell_type": "code",
      "source": [
        "#Defining dataset:\n",
        "\n",
        "data = [random.randint(1, 100) for  in range(100)]\n",
        "data = np.array(data)\n",
        "print(data)\n",
        "print(data.shape)"
      ],
      "metadata": {
        "id": "ohnQyoOv4aFV",
        "colab": {
          "base_uri": "https://localhost:8080/",
          "height": 357
        },
        "outputId": "f97c98d5-c6f4-4c32-ef82-7615ddee418d"
      },
      "execution_count": null,
      "outputs": [
        {
          "output_type": "error",
          "ename": "NameError",
          "evalue": "ignored",
          "traceback": [
            "\u001b[0;31m---------------------------------------------------------------------------\u001b[0m",
            "\u001b[0;31mNameError\u001b[0m                                 Traceback (most recent call last)",
            "\u001b[0;32m<ipython-input-1-daa4cf62196a>\u001b[0m in \u001b[0;36m<cell line: 3>\u001b[0;34m()\u001b[0m\n\u001b[1;32m      1\u001b[0m \u001b[0;31m#Defining dataset:\u001b[0m\u001b[0;34m\u001b[0m\u001b[0;34m\u001b[0m\u001b[0m\n\u001b[1;32m      2\u001b[0m \u001b[0;34m\u001b[0m\u001b[0m\n\u001b[0;32m----> 3\u001b[0;31m \u001b[0mdata\u001b[0m \u001b[0;34m=\u001b[0m \u001b[0;34m[\u001b[0m\u001b[0mrandom\u001b[0m\u001b[0;34m.\u001b[0m\u001b[0mrandint\u001b[0m\u001b[0;34m(\u001b[0m\u001b[0;36m1\u001b[0m\u001b[0;34m,\u001b[0m \u001b[0;36m1000\u001b[0m\u001b[0;34m)\u001b[0m \u001b[0;32mfor\u001b[0m \u001b[0mi\u001b[0m \u001b[0;32min\u001b[0m \u001b[0mrange\u001b[0m\u001b[0;34m(\u001b[0m\u001b[0;36m100\u001b[0m\u001b[0;34m)\u001b[0m\u001b[0;34m]\u001b[0m\u001b[0;34m\u001b[0m\u001b[0;34m\u001b[0m\u001b[0m\n\u001b[0m\u001b[1;32m      4\u001b[0m \u001b[0mdata\u001b[0m \u001b[0;34m=\u001b[0m \u001b[0mnp\u001b[0m\u001b[0;34m.\u001b[0m\u001b[0marray\u001b[0m\u001b[0;34m(\u001b[0m\u001b[0mdata\u001b[0m\u001b[0;34m)\u001b[0m\u001b[0;34m\u001b[0m\u001b[0;34m\u001b[0m\u001b[0m\n\u001b[1;32m      5\u001b[0m \u001b[0mprint\u001b[0m\u001b[0;34m(\u001b[0m\u001b[0mdata\u001b[0m\u001b[0;34m)\u001b[0m\u001b[0;34m\u001b[0m\u001b[0;34m\u001b[0m\u001b[0m\n",
            "\u001b[0;32m<ipython-input-1-daa4cf62196a>\u001b[0m in \u001b[0;36m<listcomp>\u001b[0;34m(.0)\u001b[0m\n\u001b[1;32m      1\u001b[0m \u001b[0;31m#Defining dataset:\u001b[0m\u001b[0;34m\u001b[0m\u001b[0;34m\u001b[0m\u001b[0m\n\u001b[1;32m      2\u001b[0m \u001b[0;34m\u001b[0m\u001b[0m\n\u001b[0;32m----> 3\u001b[0;31m \u001b[0mdata\u001b[0m \u001b[0;34m=\u001b[0m \u001b[0;34m[\u001b[0m\u001b[0mrandom\u001b[0m\u001b[0;34m.\u001b[0m\u001b[0mrandint\u001b[0m\u001b[0;34m(\u001b[0m\u001b[0;36m1\u001b[0m\u001b[0;34m,\u001b[0m \u001b[0;36m1000\u001b[0m\u001b[0;34m)\u001b[0m \u001b[0;32mfor\u001b[0m \u001b[0mi\u001b[0m \u001b[0;32min\u001b[0m \u001b[0mrange\u001b[0m\u001b[0;34m(\u001b[0m\u001b[0;36m100\u001b[0m\u001b[0;34m)\u001b[0m\u001b[0;34m]\u001b[0m\u001b[0;34m\u001b[0m\u001b[0;34m\u001b[0m\u001b[0m\n\u001b[0m\u001b[1;32m      4\u001b[0m \u001b[0mdata\u001b[0m \u001b[0;34m=\u001b[0m \u001b[0mnp\u001b[0m\u001b[0;34m.\u001b[0m\u001b[0marray\u001b[0m\u001b[0;34m(\u001b[0m\u001b[0mdata\u001b[0m\u001b[0;34m)\u001b[0m\u001b[0;34m\u001b[0m\u001b[0;34m\u001b[0m\u001b[0m\n\u001b[1;32m      5\u001b[0m \u001b[0mprint\u001b[0m\u001b[0;34m(\u001b[0m\u001b[0mdata\u001b[0m\u001b[0;34m)\u001b[0m\u001b[0;34m\u001b[0m\u001b[0;34m\u001b[0m\u001b[0m\n",
            "\u001b[0;31mNameError\u001b[0m: name 'random' is not defined"
          ]
        }
      ]
    },
    {
      "cell_type": "markdown",
      "source": [
        "#Statistical Measures\n",
        "**Task 1:** Write functions to find and return the required statistical measures (same as the function name).\n",
        "\n",
        "**Task 2:** Print all the values\n",
        "\n",
        "Note: You have replace pass statement with appropriate return statement. Pass statement is just used a temporary replacement for empty code."
      ],
      "metadata": {
        "id": "jZCPsH6BKbHr"
      }
    },
    {
      "cell_type": "code",
      "execution_count": null,
      "metadata": {
        "id": "x3gfOSQC0m8U"
      },
      "outputs": [],
      "source": [
        "def Minimum(data):\n",
        "\n",
        "def Maximum(data):\n",
        "  pass\n",
        "def Mean(data):\n",
        "  pass\n",
        "def Median(data):\n",
        "  pass\n",
        "def Mode(data):\n",
        "  pass\n",
        "def Variance(data):\n",
        "  pass\n",
        "\n",
        "\n"
      ]
    },
    {
      "cell_type": "markdown",
      "source": [
        "#Probability Distributions\n",
        "Functions for three common probability distributions have been defined. In each function 'x' is an array which stores the data points. The code for plotting the distributions has already been written.\n",
        "\n",
        "**Task 1:** Parameters for Gaussian and Uniform distribution have been calculated above. Call the appropriate functions to store into the right variables.\n",
        "\n",
        "**Task 2:** Calculate the probability distribution function using the formulas given below.\n",
        "\n",
        "\\\n",
        "\n",
        "**Gaussian Distribution**\n",
        "\n",
        "$\\text{f}(x) = \\frac{1} {\\sigma\\sqrt{2π}}e^{-\\frac{1}{2}{(\\frac{x-μ}{\\sigma})}^2}$\n",
        "where **μ** is the mean and **σ** is the standard deviation\n",
        "\n",
        "\n",
        "**Uniform Distribution**\n",
        "\n",
        "$\\begin{align}\n",
        "\\text{f}(x) = \\left\\{\n",
        "  \\begin{array}{c1}\n",
        "  \\frac{1}{Max-Min} & Min \\le x \\le Max\\\\\n",
        "  0 & otherwise\n",
        "  \\end{array}\n",
        "  \\right.\n",
        "  \\end{align}\n",
        "  $\n",
        "\n",
        "**Exponential Distribution**\n",
        "\n",
        "$\\text{f}(x) = \\left\\{\n",
        "  \\begin{array}{c1}\n",
        "  \\lambda e^{-\\lambda x} & x \\ge 0\\\\\n",
        "  0 & x < 0\n",
        "  \\end{array}\n",
        "  \\right.$\n",
        "where $\\lambda$ is the Scale Parameter"
      ],
      "metadata": {
        "id": "VlVxslM9-7L-"
      }
    },
    {
      "cell_type": "code",
      "source": [
        "#Plotting distributions\n",
        "\n",
        "# 1. Gaussian Distribution:\n",
        "def Gaussian(data):\n",
        "\n",
        "  mean, std = # Using values calculated above\n",
        "\n",
        "  x = np.linspace(mean-3*std, mean+3*std, 100)\n",
        "\n",
        "  PDF = # Using formula mentioned above\n",
        "\n",
        "  plt.plot(x, PDF, 'r')\n",
        "  plt.xlabel('Value')\n",
        "  plt.ylabel('Probability')\n",
        "  plt.title('Gaussian Distribution')\n",
        "  plt.grid(True)\n",
        "  plt.show()\n",
        "\n",
        "# 2. Uniform Distribution:\n",
        "def Uniform(data):\n",
        "\n",
        "  Min, Max = # Using values calculated above\n",
        "\n",
        "  x = np.linspace(Min-10, Max+10, 100)\n",
        "\n",
        "  PDF = # Instructions\n",
        "\n",
        "  plt.plot(x, PDF, 'r')\n",
        "  plt.xlabel('Value')\n",
        "  plt.ylabel('Probability')\n",
        "  plt.title('Uniform Distribution')\n",
        "  plt.grid(True)\n",
        "  plt.show()\n",
        "\n",
        "# 3. Exponential Distribution:\n",
        "def Exponential(data):\n",
        "  Scale_Parameter = 1 #Given\n",
        "  x = np.sort(data/100)\n",
        "\n",
        "  PDF = #Using given formula\n",
        "\n",
        "  plt.plot(x, PDF, 'r')\n",
        "  plt.xlabel('Value')\n",
        "  plt.ylabel('Probability')\n",
        "  plt.title('Exponential Distribution')\n",
        "  plt.grid(True)\n",
        "  plt.show()\n",
        "\n",
        "Gaussian(data)\n",
        "Uniform(data)\n",
        "Exponential(data)\n",
        "\n"
      ],
      "metadata": {
        "id": "pH7Zubwg1KA4"
      },
      "execution_count": null,
      "outputs": []
    },
    {
      "cell_type": "markdown",
      "source": [
        "#Matrix Multiplication and Dot Product\n",
        "**Task**: Create two matrices and complete the given functions (Instructions have been provided within)"
      ],
      "metadata": {
        "id": "qqeF4sM8V3D8"
      }
    },
    {
      "cell_type": "code",
      "source": [
        "\n",
        "\n",
        "def Matrix_Multiplication(Mat1, Mat2):\n",
        "  pass\n",
        "  # Convert mat1 and mat2 to numpy arrays\n",
        "  # Display shapes of matrices\n",
        "  # Check if matrix multiplication is possible\n",
        "  # If yes, multiply the matrices and display the result\n",
        "\n",
        "def Dot_Product(Mat1, Mat2):\n",
        "  pass\n",
        "  # Convert mat1 and mat2 to numpy arrays\n",
        "  # Display shapes of matrices\n",
        "  # Check if dot product is possible\n",
        "  # If yes, display the result\n",
        "\n"
      ],
      "metadata": {
        "id": "u1Bz1Cxr2Ife"
      },
      "execution_count": null,
      "outputs": []
    },
    {
      "cell_type": "markdown",
      "source": [
        "# Linear Regression Model\n",
        "You're given a 100 data points generated from the function\n",
        "$y=mx+c$. Some noise is added to the y values.\n",
        "\n",
        "**Task:** Estimate the values of m and c using linear regression. Write a suitable cost function and update the parameters.\n",
        "\n"
      ],
      "metadata": {
        "id": "MMJoUuv1UEV4"
      }
    },
    {
      "cell_type": "code",
      "source": [
        "#Linear regression model\n",
        "\n",
        "# Generation of data points\n",
        "\n",
        "x = np.random.rand(100)*100\n",
        "y = 5*x+20\n",
        "y = y+np.random.randn(100)*20\n",
        "plt.scatter(x,y)"
      ],
      "metadata": {
        "id": "blEPBhml3ode"
      },
      "execution_count": null,
      "outputs": []
    },
    {
      "cell_type": "code",
      "source": [
        "# Initialisng parameters m and c such that the best fit line is given by y = m*x+c\n",
        "\n",
        "m, c = 1, 12\n",
        "\n",
        "#Cost function to be minimised\n",
        "def cost_fn(m,c,x,y):\n",
        "  y_o = m*x+c\n",
        "  # print(y_o,y)\n",
        "\n",
        "  loss = #Squared error\n",
        "\n",
        "  return loss/(np.shape(x)[0])\n",
        "\n",
        "#Function for updating parameter\n",
        "def update_params(m,c,learning_rate,x,y):\n",
        "  y_o = m*x+c\n",
        "\n",
        "  m = #Update parameters\n",
        "  c = #Update Parameters\n",
        "\n",
        "  return m,c"
      ],
      "metadata": {
        "id": "NGHR1MlXJZ-Y"
      },
      "execution_count": null,
      "outputs": []
    },
    {
      "cell_type": "markdown",
      "source": [
        "Specify epochs, and learning rate and run the model."
      ],
      "metadata": {
        "id": "cd3fr9LGb8k_"
      }
    },
    {
      "cell_type": "code",
      "source": [
        "#Running on data\n",
        "epochs = # define number of iterations for minimising cost function\n",
        "learning_rate = # define the learning rate\n",
        "for i in range(epochs):\n",
        "  loss=cost_fn(m,c,x,y)\n",
        "  if(i%10 == 0):\n",
        "    print(\"The loss is: \",loss)\n",
        "  m,c=update_params(m,c,learning_rate,x,y)"
      ],
      "metadata": {
        "id": "UQ32nctUJ5zo"
      },
      "execution_count": null,
      "outputs": []
    },
    {
      "cell_type": "code",
      "source": [
        "print(m,c)"
      ],
      "metadata": {
        "id": "IGD25A05J9gu"
      },
      "execution_count": null,
      "outputs": []
    },
    {
      "cell_type": "markdown",
      "source": [
        "The final values should be close to (5, 20)"
      ],
      "metadata": {
        "id": "Phg2HY5zcGL5"
      }
    }
  ]
}